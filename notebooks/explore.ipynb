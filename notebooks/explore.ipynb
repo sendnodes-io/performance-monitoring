{
 "cells": [
  {
   "cell_type": "code",
   "execution_count": 2,
   "metadata": {},
   "outputs": [],
   "source": [
    "API_TOKEN = '40e207e2-ca32-416f-a4f5-583f3049f55b'\n",
    "URL_GRAPHQL = 'https://www.poktscan.com/api/graphql'\n"
   ]
  },
  {
   "cell_type": "code",
   "execution_count": 3,
   "metadata": {},
   "outputs": [],
   "source": [
    "import asyncio\n",
    "import json\n",
    "from os import path\n",
    "from gql import Client, gql\n",
    "from gql.transport.aiohttp import AIOHTTPTransport\n",
    "\n",
    "# Select your transport with a defined url endpoint\n",
    "transport = AIOHTTPTransport(url=URL_GRAPHQL, headers={'Authorization': API_TOKEN})\n",
    "\n",
    "\n",
    "async def send_query(file_name: str, query: str, params: dict={}):\n",
    "    async with Client(\n",
    "        transport=transport, fetch_schema_from_transport=True) as session:\n",
    "        query = gql(query)\n",
    "        result = await session.execute(query, variable_values=params)\n",
    "        \n",
    "        file = open(path.join('./data', f'{file_name}.json'), 'w')\n",
    "        file.write(json.dumps(result))\n",
    "        file.close()\n",
    "    "
   ]
  },
  {
   "cell_type": "markdown",
   "metadata": {},
   "source": [
    "### Request to get rewards data"
   ]
  },
  {
   "cell_type": "code",
   "execution_count": 4,
   "metadata": {},
   "outputs": [],
   "source": [
    "# Provide a GraphQL query\n",
    "get_rewards_query = \"\"\"\n",
    "query getChainsRewards($from: String!, $to: String!, $timeSeriesAggregation: TimeSeriesAggregation, $interval: BigInt) {\n",
    "  getChainsRewards(\n",
    "    from: $from\n",
    "    to: $to\n",
    "    timeSeriesAggregation: $timeSeriesAggregation\n",
    "    interval: $interval\n",
    "  ) {\n",
    "    first\n",
    "    first_time\n",
    "    last\n",
    "    last_time\n",
    "    total_relays\n",
    "    total_pokt\n",
    "    total_by_chain {\n",
    "      chain\n",
    "      total_relays\n",
    "      total_pokt\n",
    "      __typename\n",
    "    }\n",
    "    units {\n",
    "      first\n",
    "      last\n",
    "      point_id\n",
    "      point\n",
    "      chains {\n",
    "        chain\n",
    "        total_relays\n",
    "        total_pokt\n",
    "        validators_avg\n",
    "        earn_avg\n",
    "        __typename\n",
    "      }\n",
    "      __typename\n",
    "    }\n",
    "    __typename\n",
    "  }\n",
    "}\n",
    "\n",
    "\"\"\"\n",
    "\n",
    "params = {\n",
    "    \"from\": \"2022-04-30\",\n",
    "    \"to\": \"2022-05-31\",\n",
    "    \"timeSeriesAggregation\": \"day\"\n",
    "}\n",
    "\n",
    "loop = asyncio.get_running_loop()\n",
    "task = loop.create_task(send_query(\"rewards\",get_rewards_query, params=params))"
   ]
  },
  {
   "cell_type": "markdown",
   "metadata": {},
   "source": [
    "### Nodes Geolocation data"
   ]
  },
  {
   "cell_type": "code",
   "execution_count": 5,
   "metadata": {},
   "outputs": [
    {
     "name": "stderr",
     "output_type": "stream",
     "text": [
      "Task exception was never retrieved\n",
      "future: <Task finished name='Task-4' coro=<send_query() done, defined at /tmp/ipykernel_3833/2098654156.py:11> exception=TimeoutError()>\n",
      "Traceback (most recent call last):\n",
      "  File \"/home/dry/workspace/sendnodes/pokt-stats/venv/lib/python3.9/site-packages/gql/transport/aiohttp.py\", line 286, in execute\n",
      "    async with self.session.post(self.url, ssl=self.ssl, **post_args) as resp:\n",
      "  File \"/home/dry/workspace/sendnodes/pokt-stats/venv/lib/python3.9/site-packages/aiohttp/client.py\", line 1138, in __aenter__\n",
      "    self._resp = await self._coro\n",
      "  File \"/home/dry/workspace/sendnodes/pokt-stats/venv/lib/python3.9/site-packages/aiohttp/client.py\", line 559, in _request\n",
      "    await resp.start(conn)\n",
      "  File \"/home/dry/workspace/sendnodes/pokt-stats/venv/lib/python3.9/site-packages/aiohttp/client_reqrep.py\", line 898, in start\n",
      "    message, payload = await protocol.read()  # type: ignore[union-attr]\n",
      "  File \"/home/dry/workspace/sendnodes/pokt-stats/venv/lib/python3.9/site-packages/aiohttp/streams.py\", line 616, in read\n",
      "    await self._waiter\n",
      "asyncio.exceptions.CancelledError\n",
      "\n",
      "During handling of the above exception, another exception occurred:\n",
      "\n",
      "Traceback (most recent call last):\n",
      "  File \"/usr/lib/python3.9/asyncio/tasks.py\", line 492, in wait_for\n",
      "    fut.result()\n",
      "asyncio.exceptions.CancelledError\n",
      "\n",
      "The above exception was the direct cause of the following exception:\n",
      "\n",
      "Traceback (most recent call last):\n",
      "  File \"/tmp/ipykernel_3833/2098654156.py\", line 15, in send_query\n",
      "    result = await session.execute(query, variable_values=params)\n",
      "  File \"/home/dry/workspace/sendnodes/pokt-stats/venv/lib/python3.9/site-packages/gql/client.py\", line 1160, in execute\n",
      "    result = await self._execute(\n",
      "  File \"/home/dry/workspace/sendnodes/pokt-stats/venv/lib/python3.9/site-packages/gql/client.py\", line 1066, in _execute\n",
      "    result = await asyncio.wait_for(\n",
      "  File \"/usr/lib/python3.9/asyncio/tasks.py\", line 494, in wait_for\n",
      "    raise exceptions.TimeoutError() from exc\n",
      "asyncio.exceptions.TimeoutError\n"
     ]
    }
   ],
   "source": [
    "# Provide a GraphQL query\n",
    "get_geolocation_query = \"\"\"\n",
    "query{\n",
    "  nodesGeoLocationData {\n",
    "    items {\n",
    "      country\n",
    "      staked\n",
    "      unstaking\n",
    "      validators\n",
    "    }\n",
    "  }\n",
    "}\n",
    "\n",
    "\"\"\"\n",
    "\n",
    "task = loop.create_task(send_query(\"nodes_geolocation\",get_geolocation_query))"
   ]
  },
  {
   "cell_type": "markdown",
   "metadata": {},
   "source": [
    "### SendNodes Data"
   ]
  },
  {
   "cell_type": "code",
   "execution_count": 8,
   "metadata": {},
   "outputs": [],
   "source": [
    "# Get sendnodes nodes data\n",
    "get_sendnodes_data = \"\"\"\n",
    "query nodes($page: Int!, $search: String!, $limit: Int!,  $filter: String) {\n",
    "  nodes(search: $search, page: $page, limit: $limit, filter: $filter) {\n",
    "    pageInfo {\n",
    "      total\n",
    "      __typename\n",
    "    }\n",
    "    items {\n",
    "      _id\n",
    "      height\n",
    "      parse_time\n",
    "      producer\n",
    "      public_key\n",
    "      address\n",
    "      balance\n",
    "      status\n",
    "      service_url\n",
    "      service_domain\n",
    "      tokens\n",
    "      unstaking_time\n",
    "      jailed\n",
    "      chains\n",
    "      missed_signing_blocks_counter\n",
    "      index_offset\n",
    "      jailed_blocks_counter\n",
    "      jailed_until\n",
    "      start_height\n",
    "      __typename\n",
    "    }\n",
    "    __typename\n",
    "  }\n",
    "}\n",
    "\"\"\"\n",
    "domain = \"sendnodes.io\"\n",
    "params = {\n",
    "    \"filter\": f\"[[\\\"service_domain\\\",\\\"contains\\\",\\\"{domain}\\\"],\\\"or\\\",[\\\"address\\\",\\\"contains\\\",\\\"{domain}\\\"],\\\"or\\\",[\\\"service_url\\\",\\\"contains\\\",\\\"{domain}\\\"],\\\"or\\\",[\\\"country\\\",\\\"contains\\\",\\\"{domain}\\\"],\\\"or\\\",[\\\"version\\\",\\\"contains\\\",\\\"{domain}\\\"]]\",\n",
    "    \"page\": 1,\n",
    "    \"limit\": 100,\n",
    "    \"search\": \"\"\n",
    "}\n",
    "\n",
    "task1 = loop.create_task(send_query(\"sendnodes_data_1\",get_sendnodes_data, params=params))\n",
    "\n"
   ]
  },
  {
   "cell_type": "code",
   "execution_count": 9,
   "metadata": {},
   "outputs": [
    {
     "name": "stderr",
     "output_type": "stream",
     "text": [
      "Task exception was never retrieved\n",
      "future: <Task finished name='Task-25' coro=<send_query() done, defined at /tmp/ipykernel_3833/2098654156.py:11> exception=TransportAlreadyConnected('Transport is already connected')>\n",
      "Traceback (most recent call last):\n",
      "  File \"/tmp/ipykernel_3833/2098654156.py\", line 12, in send_query\n",
      "    async with Client(\n",
      "  File \"/home/dry/workspace/sendnodes/pokt-stats/venv/lib/python3.9/site-packages/gql/client.py\", line 597, in __aenter__\n",
      "    await self.transport.connect()\n",
      "  File \"/home/dry/workspace/sendnodes/pokt-stats/venv/lib/python3.9/site-packages/gql/transport/aiohttp.py\", line 113, in connect\n",
      "    raise TransportAlreadyConnected(\"Transport is already connected\")\n",
      "gql.transport.exceptions.TransportAlreadyConnected: Transport is already connected\n"
     ]
    }
   ],
   "source": [
    "# Getting data for second page\n",
    "params['page'] = 2\n",
    "task2 = loop.create_task(send_query(\n",
    "    \"sendnodes_data_2\", get_sendnodes_data, params=params))\n"
   ]
  },
  {
   "cell_type": "markdown",
   "metadata": {},
   "source": [
    "### Pokt Earn Performance"
   ]
  },
  {
   "cell_type": "code",
   "execution_count": 10,
   "metadata": {},
   "outputs": [],
   "source": [
    "pokt_earn_query = \"\"\" query{\n",
    "    getPoktEarnPerformance{\n",
    "        thirty_day_pokt_avg\n",
    "        thirty_day_relays_avg\n",
    "    }\n",
    "}\n",
    "\"\"\"\n",
    "pokt_perf_perf = loop.create_task(send_query(\n",
    "    \"pokt_earn_perf\", pokt_earn_query))\n"
   ]
  },
  {
   "cell_type": "markdown",
   "metadata": {},
   "source": [
    "### Largest nodes Runners stats"
   ]
  },
  {
   "cell_type": "code",
   "execution_count": null,
   "metadata": {},
   "outputs": [],
   "source": [
    "largest_nodes_runners_query = \"\"\"query{\n",
    "  largestNodeRunners{\n",
    "    items{\n",
    "      service_domain\n",
    "      validators\n",
    "      power\n",
    "    }\n",
    "    total_power\n",
    "  }\n",
    "}\n",
    "\"\"\"\n",
    "\n",
    "largest_nodes_runners_task = loop.create_task(send_query(\n",
    "    \"largest_nodes_runners\", largest_nodes_runners_query))\n"
   ]
  },
  {
   "cell_type": "markdown",
   "metadata": {},
   "source": [
    "### SendNodes Summary"
   ]
  },
  {
   "cell_type": "code",
   "execution_count": 47,
   "metadata": {},
   "outputs": [
    {
     "data": {
      "text/plain": [
       "gql.transport.exceptions.TransportQueryError(\"{'message': 'Cannot return null for non-nullable field Node.version.', 'locations': [{'line': 27, 'column': 7}], 'path': ['nodes', 'items', 98, 'version'], 'extensions': {'code': 'INTERNAL_SERVER_ERROR'}}\")"
      ]
     },
     "execution_count": 47,
     "metadata": {},
     "output_type": "execute_result"
    }
   ],
   "source": [
    "\n"
   ]
  }
 ],
 "metadata": {
  "interpreter": {
   "hash": "e78fba70ee70537616353761f64aa0872115ca0411cfafbb1386500b15eaf234"
  },
  "kernelspec": {
   "display_name": "Python 3.9.5 ('venv': venv)",
   "language": "python",
   "name": "python3"
  },
  "language_info": {
   "codemirror_mode": {
    "name": "ipython",
    "version": 3
   },
   "file_extension": ".py",
   "mimetype": "text/x-python",
   "name": "python",
   "nbconvert_exporter": "python",
   "pygments_lexer": "ipython3",
   "version": "3.9.5"
  },
  "orig_nbformat": 4
 },
 "nbformat": 4,
 "nbformat_minor": 2
}
