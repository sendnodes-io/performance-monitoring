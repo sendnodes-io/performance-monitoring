{
 "cells": [
  {
   "cell_type": "code",
   "execution_count": 4,
   "metadata": {},
   "outputs": [],
   "source": [
    "API_TOKEN = '40e207e2-ca32-416f-a4f5-583f3049f55b'\n",
    "URL_GRAPHQL = 'https://www.poktscan.com/api/graphql'\n"
   ]
  },
  {
   "cell_type": "code",
   "execution_count": 9,
   "metadata": {},
   "outputs": [],
   "source": [
    "import requests\n",
    "import json\n",
    "\n",
    "auth = requests.auth.HTTPBasicAuth('authorization', API_TOKEN)\n"
   ]
  },
  {
   "cell_type": "code",
   "execution_count": 10,
   "metadata": {},
   "outputs": [],
   "source": [
    "query = \"\"\"\n",
    "nodes(search:\\\"\\\" , page:1 , limit:100 , filter: \\\"[[\\\"service_domain\\\",\\\"contains\\\",\\\"sendnodes.\\\"],\\\"or\\\",[\\\"address\\\",\\\"contains\\\",\\\"sendnodes\\\"],\\\"or\\\",[\\\"service_url\\\",\\\"contains\\\",\\\"sendnodes\\\"],\\\"or\\\",[\\\"country\\\",\\\"contains\\\",\\\"sendnodes\\\"],\\\"or\\\",[\\\"version\\\",\\\"contains\\\",\\\"sendnodes\\\"]]\\\") {\n",
    "    pageInfo {\n",
    "      total\n",
    "      __typename\n",
    "    }\n",
    "    items {\n",
    "      _id\n",
    "      height\n",
    "      parse_time\n",
    "      producer\n",
    "      public_key\n",
    "      address\n",
    "      balance\n",
    "      status\n",
    "      service_url\n",
    "      service_domain\n",
    "      tokens\n",
    "      unstaking_time\n",
    "      jailed\n",
    "      chains\n",
    "      missed_signing_blocks_counter\n",
    "      index_offset\n",
    "      jailed_blocks_counter\n",
    "      jailed_until\n",
    "      start_height\n",
    "      version\n",
    "      __typename\n",
    "    }\n",
    "    __typename\n",
    "  }\n",
    "}\n",
    "\"\"\""
   ]
  },
  {
   "cell_type": "code",
   "execution_count": 13,
   "metadata": {},
   "outputs": [],
   "source": [
    "r = requests.post(URL_GRAPHQL, json={'query': query}, headers={'authorization': API_TOKEN})\n",
    "print(r.status_code)\n",
    "print(r.text)\n"
   ]
  }
 ],
 "metadata": {
  "interpreter": {
   "hash": "e78fba70ee70537616353761f64aa0872115ca0411cfafbb1386500b15eaf234"
  },
  "kernelspec": {
   "display_name": "Python 3.9.5 ('venv': venv)",
   "language": "python",
   "name": "python3"
  },
  "language_info": {
   "codemirror_mode": {
    "name": "ipython",
    "version": 3
   },
   "file_extension": ".py",
   "mimetype": "text/x-python",
   "name": "python",
   "nbconvert_exporter": "python",
   "pygments_lexer": "ipython3",
   "version": "3.9.5"
  },
  "orig_nbformat": 4
 },
 "nbformat": 4,
 "nbformat_minor": 2
}
